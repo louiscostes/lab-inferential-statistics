{
 "cells": [
  {
   "cell_type": "code",
   "execution_count": 1,
   "metadata": {},
   "outputs": [],
   "source": [
    "import pandas as pd\n",
    "import numpy as np\n",
    "pd.set_option('display.max_columns', None)\n",
    "import warnings\n",
    "warnings.filterwarnings('ignore')\n",
    "import matplotlib.pyplot as plt\n",
    "import seaborn as sns "
   ]
  },
  {
   "cell_type": "markdown",
   "metadata": {},
   "source": [
    "LAB 1 HYPOTHESIS TEST "
   ]
  },
  {
   "cell_type": "code",
   "execution_count": 2,
   "metadata": {},
   "outputs": [
    {
     "data": {
      "text/plain": [
       "(197, 35)"
      ]
     },
     "execution_count": 2,
     "metadata": {},
     "output_type": "execute_result"
    }
   ],
   "source": [
    "data = pd.read_csv('/Users/louis/Desktop/breast-cancer.csv')\n",
    "data.shape"
   ]
  },
  {
   "cell_type": "code",
   "execution_count": 4,
   "metadata": {},
   "outputs": [
    {
     "name": "stdout",
     "output_type": "stream",
     "text": [
      "Statistic is:  5.233380480905231\n"
     ]
    }
   ],
   "source": [
    "import math\n",
    "\n",
    "sample_mean = 131.1\n",
    "pop_mean = 120\n",
    "sample_std = 21.21\n",
    "n = 100\n",
    "statistic = (sample_mean - pop_mean)/(sample_std/math.sqrt(n))\n",
    "print(\"Statistic is: \", statistic)"
   ]
  },
  {
   "cell_type": "code",
   "execution_count": 6,
   "metadata": {},
   "outputs": [
    {
     "name": "stdout",
     "output_type": "stream",
     "text": [
      "The t-statistic for the sample 0 is: 6.059647279758775\n",
      "The t-statistic for the sample 1 is: 3.447024176866937\n",
      "The t-statistic for the sample 2 is: 4.636071016059969\n",
      "The t-statistic for the sample 3 is: 4.060115902650096\n",
      "The t-statistic for the sample 4 is: 4.4570414572301384\n",
      "The t-statistic for the sample 5 is: 5.2099129611182615\n",
      "The t-statistic for the sample 6 is: 6.076403066592054\n",
      "The t-statistic for the sample 7 is: 5.075352079459813\n",
      "The t-statistic for the sample 8 is: 5.754223074898521\n",
      "The t-statistic for the sample 9 is: 2.935668447140045\n"
     ]
    }
   ],
   "source": [
    "from scipy import stats\n",
    "from numpy.random import normal\n",
    "\n",
    "\n",
    "samples = {}\n",
    "\n",
    "for i in range(10):\n",
    "    sample_name = \"sample_\" + str(i)\n",
    "    samples[sample_name] = normal(loc = 131.1, scale = 21.21, size = 100)\n",
    "    sample_mean = \"sample_\" + str(i) + \"_mean\"\n",
    "    samples[sample_mean] = np.mean(samples[sample_name])\n",
    "    sample_std = \"sample_\" + str(i) + \"_std\"\n",
    "    samples[sample_std] = np.std(samples[sample_name],ddof=1)\n",
    "    sample_statistic = \"sample_\" + str(i) + \"_t-statistic\"\n",
    "    samples[sample_statistic] = (samples[sample_mean]- pop_mean)/(samples[sample_std]/math.sqrt(n)) \n",
    "    print(\"The t-statistic for the sample {} is: {}\".format(i,samples[sample_statistic]))"
   ]
  },
  {
   "cell_type": "code",
   "execution_count": 7,
   "metadata": {},
   "outputs": [
    {
     "name": "stdout",
     "output_type": "stream",
     "text": [
      "Assuming a significance level of 0.05\n",
      "\n",
      "The p-value of sample 0 is: 2.48e-08\n",
      "Therefore we discard the null hypothesis Ho, as it's very unlikely to get sample 0 given Ho.\n",
      "\n",
      "The p-value of sample 1 is: 0.000833\n",
      "Therefore we discard the null hypothesis Ho, as it's very unlikely to get sample 1 given Ho.\n",
      "\n",
      "The p-value of sample 2 is: 1.09e-05\n",
      "Therefore we discard the null hypothesis Ho, as it's very unlikely to get sample 2 given Ho.\n",
      "\n",
      "The p-value of sample 3 is: 9.82e-05\n",
      "Therefore we discard the null hypothesis Ho, as it's very unlikely to get sample 3 given Ho.\n",
      "\n",
      "The p-value of sample 4 is: 2.19e-05\n",
      "Therefore we discard the null hypothesis Ho, as it's very unlikely to get sample 4 given Ho.\n",
      "\n",
      "The p-value of sample 5 is: 1.03e-06\n",
      "Therefore we discard the null hypothesis Ho, as it's very unlikely to get sample 5 given Ho.\n",
      "\n",
      "The p-value of sample 6 is: 2.3e-08\n",
      "Therefore we discard the null hypothesis Ho, as it's very unlikely to get sample 6 given Ho.\n",
      "\n",
      "The p-value of sample 7 is: 1.81e-06\n",
      "Therefore we discard the null hypothesis Ho, as it's very unlikely to get sample 7 given Ho.\n",
      "\n",
      "The p-value of sample 8 is: 9.75e-08\n",
      "Therefore we discard the null hypothesis Ho, as it's very unlikely to get sample 8 given Ho.\n",
      "\n",
      "The p-value of sample 9 is: 0.00414\n",
      "Therefore we discard the null hypothesis Ho, as it's very unlikely to get sample 9 given Ho.\n",
      "\n"
     ]
    }
   ],
   "source": [
    "print(\"Assuming a significance level of 0.05\")\n",
    "print()\n",
    "\n",
    "for i in range(10):\n",
    "    sample_name = \"sample_\" + str(i)\n",
    "    print(\"The p-value of sample {} is: {:-5.3}\".format(i,stats.ttest_1samp(samples[sample_name],120)[1]))\n",
    "    if ( stats.ttest_1samp(samples[sample_name],120)[1] < 0.05 ):\n",
    "        print(\"Therefore we discard the null hypothesis Ho, as it's very unlikely to get sample {} given Ho.\".format(i))\n",
    "    print()"
   ]
  },
  {
   "cell_type": "code",
   "execution_count": null,
   "metadata": {},
   "outputs": [],
   "source": []
  }
 ],
 "metadata": {
  "kernelspec": {
   "display_name": "Python 3",
   "language": "python",
   "name": "python3"
  },
  "language_info": {
   "codemirror_mode": {
    "name": "ipython",
    "version": 3
   },
   "file_extension": ".py",
   "mimetype": "text/x-python",
   "name": "python",
   "nbconvert_exporter": "python",
   "pygments_lexer": "ipython3",
   "version": "3.8.3"
  }
 },
 "nbformat": 4,
 "nbformat_minor": 4
}
